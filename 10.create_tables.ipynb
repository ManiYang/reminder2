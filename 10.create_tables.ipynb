{
 "cells": [
  {
   "cell_type": "code",
   "execution_count": 8,
   "metadata": {},
   "outputs": [
    {
     "name": "stdout",
     "output_type": "stream",
     "text": [
      "create_table_category.sql\r\n",
      "create_table_reminder.sql\r\n",
      "db.sqlite\r\n"
     ]
    }
   ],
   "source": [
    "!ls -1 data/"
   ]
  },
  {
   "cell_type": "code",
   "execution_count": 1,
   "metadata": {},
   "outputs": [],
   "source": [
    "SQLITE_FILE = 'data/db.sqlite'"
   ]
  },
  {
   "cell_type": "code",
   "execution_count": 2,
   "metadata": {},
   "outputs": [],
   "source": [
    "# create table \"category\"\n",
    "!sqlite3 {SQLITE_FILE} < data/create_table_category.sql"
   ]
  },
  {
   "cell_type": "code",
   "execution_count": 4,
   "metadata": {},
   "outputs": [],
   "source": [
    "# create table \"reminder\"\n",
    "!sqlite3 {SQLITE_FILE} < data/create_table_reminder.sql"
   ]
  },
  {
   "cell_type": "code",
   "execution_count": null,
   "metadata": {},
   "outputs": [],
   "source": []
  },
  {
   "cell_type": "code",
   "execution_count": 5,
   "metadata": {},
   "outputs": [
    {
     "name": "stdout",
     "output_type": "stream",
     "text": [
      "category  reminder\r\n"
     ]
    }
   ],
   "source": [
    "!sqlite3 {SQLITE_FILE} .table"
   ]
  },
  {
   "cell_type": "code",
   "execution_count": 6,
   "metadata": {},
   "outputs": [
    {
     "name": "stdout",
     "output_type": "stream",
     "text": [
      "CREATE TABLE reminder (\r\n",
      "        id INTEGER PRIMARY KEY,\r\n",
      "        category_id INTEGER,\r\n",
      "        content TEXT NOT NULL,\r\n",
      "        time TEXT NOT NULL,\r\n",
      "        FOREIGN KEY(category_id) REFERENCES category(id) \r\n",
      "            ON UPDATE CASCADE\r\n",
      "            ON DELETE SET NULL\r\n",
      "    );\r\n"
     ]
    }
   ],
   "source": [
    "!sqlite3 {SQLITE_FILE} \".schema reminder\""
   ]
  },
  {
   "cell_type": "code",
   "execution_count": 15,
   "metadata": {},
   "outputs": [
    {
     "name": "stdout",
     "output_type": "stream",
     "text": [
      "CREATE TABLE category (\r\n",
      "        id INTEGER PRIMARY KEY,\r\n",
      "        name TEXT NOT NULL\r\n",
      "    );\r\n"
     ]
    }
   ],
   "source": [
    "!sqlite3 {SQLITE_FILE} \".schema category\""
   ]
  },
  {
   "cell_type": "code",
   "execution_count": null,
   "metadata": {},
   "outputs": [],
   "source": []
  }
 ],
 "metadata": {
  "kernelspec": {
   "display_name": "Python 3",
   "language": "python",
   "name": "python3"
  },
  "language_info": {
   "codemirror_mode": {
    "name": "ipython",
    "version": 3
   },
   "file_extension": ".py",
   "mimetype": "text/x-python",
   "name": "python",
   "nbconvert_exporter": "python",
   "pygments_lexer": "ipython3",
   "version": "3.7.1"
  },
  "toc": {
   "base_numbering": 1,
   "nav_menu": {},
   "number_sections": true,
   "sideBar": true,
   "skip_h1_title": false,
   "title_cell": "Table of Contents",
   "title_sidebar": "Contents",
   "toc_cell": false,
   "toc_position": {},
   "toc_section_display": true,
   "toc_window_display": false
  }
 },
 "nbformat": 4,
 "nbformat_minor": 2
}
